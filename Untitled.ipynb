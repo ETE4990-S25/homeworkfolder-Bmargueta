{
 "cells": [
  {
   "cell_type": "code",
   "execution_count": null,
   "id": "0b68b023-125f-4d22-8a55-179cc523523e",
   "metadata": {},
   "outputs": [],
   "source": [
    "note aaaaaaaaaaaaaaaaaaaaaaaaaaaaaaaaaaaaaaaa\n",
    "how do I open the discord link \n",
    "talk to him about the testing thing\n"
   ]
  }
 ],
 "metadata": {
  "kernelspec": {
   "display_name": "Python [conda env:base] *",
   "language": "python",
   "name": "conda-base-py"
  },
  "language_info": {
   "codemirror_mode": {
    "name": "ipython",
    "version": 3
   },
   "file_extension": ".py",
   "mimetype": "text/x-python",
   "name": "python",
   "nbconvert_exporter": "python",
   "pygments_lexer": "ipython3",
   "version": "3.12.7"
  }
 },
 "nbformat": 4,
 "nbformat_minor": 5
}
