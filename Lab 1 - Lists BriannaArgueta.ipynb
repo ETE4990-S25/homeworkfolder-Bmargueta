{
 "cells": [
  {
   "cell_type": "markdown",
   "id": "ac613382-acda-4f55-909d-5deb9a1afbda",
   "metadata": {},
   "source": [
    "# Lists\n",
    "\n",
    "## Background\n",
    "Lists are one of the most commonly used data structures in Python and are very similar to arrays from other programming languages. A list can store many items or values inside of one overall object or structure, unlike a variable which can only store one item or value inside one object. \n",
    "\n",
    "The items in a list can be accessed by using what is called an “index” value, which simply refers to the position of a certain item inside of a list, as lists are ordered from item 0 to the number of elements - 1. Therefore a list with 5 elements will have index positions 0 through 4. \n",
    "\n",
    "Any data can be stored inside a list, numbers, strings, or objects, but it is common practice to only have one data type per list. Therefore if my list has integers, it would ONLY have integers, not strings, doubles, objects, etc."
   ]
  },
  {
   "cell_type": "markdown",
   "id": "c0e77989-3dbb-4106-b49b-f8dfa5bfeab5",
   "metadata": {},
   "source": [
    "## Mini-project - Guessing game\n",
    "Create a number guessing game and set a secret number at the beginning of the program. \n",
    "The program will ask the player to enter a number to guess what the number is, then it’ll inform the player if they got it right or wrong."
   ]
  },
  {
   "cell_type": "code",
   "execution_count": null,
   "id": "4ff13200-3b6b-4173-8416-fa65d2234d9e",
   "metadata": {},
   "outputs": [],
   "source": [
    "# put your code here\n",
    "secertnumber = 1\n",
    "guess= int(input(\"make a guess\"))\n",
    "if guess == secert number;\n",
    "    print(\"you got it\" )\n",
    "else;\n",
    "                print(\" lol wrong\")\n"
   ]
  },
  {
   "cell_type": "markdown",
   "id": "4584cbfd-289d-4f0d-a899-06d90d69e3fe",
   "metadata": {},
   "source": [
    "## Mini-Project - Dice Roll\n",
    "\n",
    "Part 1:\n",
    "Create a random number generator using dice. \n",
    "You must create at least 5 dice\n",
    "The game must use conditionals (If, Else, Elif)\n",
    "The game must use nested conditionals (if 0=0:if 1=1: do something)\n",
    "\n",
    "What lists should we create for the project?\n",
    "How many loops do we need?\n",
    "\n",
    "Part 2:\n",
    "Create a list to store your gameplay. \n",
    "Create at least 2 lists to store your game statistics.\n",
    "\n",
    "Part 3:\n",
    "At the end of the output your gameplay statistics\n",
    "\n",
    "Part 4:\n",
    "Exchange code with your partner and begin adding comments on improvements (save your original version)\n",
    "\n",
    "Part 5:\n",
    "Return the code and create a comparison \n",
    "\n",
    "Part 6:\n",
    "Upload the code and comparison it to Canvas. "
   ]
  },
  {
   "cell_type": "markdown",
   "id": "bed48bdc-c505-477e-a43f-839019963ae1",
   "metadata": {},
   "source": [
    "Try 1"
   ]
  },
  {
   "cell_type": "code",
   "execution_count": 187,
   "id": "88d33cdc-b8e2-4f1b-af7d-97c1bdce7033",
   "metadata": {},
   "outputs": [],
   "source": [
    "import random \n",
    "def roll_dice():\n",
    "    lista=[1,2,3,4,5,6]\n",
    "    return random.choice (lista)\n",
    "#    lista= [1,2,3,4,5,6]\n",
    "  "
   ]
  },
  {
   "cell_type": "code",
   "execution_count": 297,
   "id": "ad8c918f-1c38-4cbd-92f0-54b35d6caac2",
   "metadata": {},
   "outputs": [
    {
     "name": "stdout",
     "output_type": "stream",
     "text": [
      "May the fates be in your favor:\n",
      "you vs the computer... Each of you will roll a dice the highest number wins:\n"
     ]
    }
   ],
   "source": [
    "print ( \"May the fates be in your favor:\")\n",
    "print (\"you vs the computer... Each of you will roll a dice the highest number wins:\")"
   ]
  },
  {
   "cell_type": "code",
   "execution_count": 299,
   "id": "afcafa58-57f4-4579-a1f0-9a3683b32df6",
   "metadata": {},
   "outputs": [
    {
     "name": "stdout",
     "output_type": "stream",
     "text": [
      "you rolled: 2\n",
      " computer rolled: 6\n"
     ]
    }
   ],
   "source": [
    "#roll_dice () \n",
    "user_roll = roll_dice()\n",
    "print (\"you rolled:\",roll_dice ())\n",
    "computer_roll = roll_dice()\n",
    "print (\" computer rolled:\", roll_dice())\n"
   ]
  },
  {
   "cell_type": "code",
   "execution_count": 301,
   "id": "2be42df9-3049-4cba-97f5-d9c95e4c0466",
   "metadata": {},
   "outputs": [
    {
     "name": "stdout",
     "output_type": "stream",
     "text": [
      "womp womp you lost computer wins:\n"
     ]
    }
   ],
   "source": [
    "    if user_roll > computer_roll:\n",
    "        print ( \"You win!!:\")\n",
    "    elif user_roll < computer_roll:\n",
    "        print(\"womp womp you lost computer wins:\")\n",
    "    else: \n",
    "        print ( \"its a tie -_-:\")\n",
    "            \n",
    "        print( \"try again:\")\n"
   ]
  },
  {
   "cell_type": "markdown",
   "id": "f31de43a-56e6-4746-a0b4-5e81768d2d40",
   "metadata": {},
   "source": [
    "try 2 with storage list copyed down \n"
   ]
  },
  {
   "cell_type": "code",
   "execution_count": 304,
   "id": "5e3268d2-52f5-400a-bb6b-6000e6e1eb51",
   "metadata": {},
   "outputs": [],
   "source": [
    "import random \n",
    "def roll_dice():\n",
    "    lista=[1,2,3,4,5,6]\n",
    "    return random.choice (lista)\n",
    "#    lista= [1,2,3,4,5,6]\n",
    "  "
   ]
  },
  {
   "cell_type": "code",
   "execution_count": 306,
   "id": "ce014af3-8999-49b5-b08b-16a7decbe750",
   "metadata": {},
   "outputs": [
    {
     "name": "stdout",
     "output_type": "stream",
     "text": [
      "May the fates be in your favor:\n",
      "you vs the computer... Each of you will roll a dice the highest number wins:\n"
     ]
    }
   ],
   "source": [
    "print ( \"May the fates be in your favor:\")\n",
    "print (\"you vs the computer... Each of you will roll a dice the highest number wins:\")"
   ]
  },
  {
   "cell_type": "code",
   "execution_count": 308,
   "id": "ec37c497-0f9d-4cc5-9f57-df609042af6d",
   "metadata": {},
   "outputs": [
    {
     "name": "stdout",
     "output_type": "stream",
     "text": [
      "you rolled: [5, 2, 6, 1, 5, 2]\n",
      " computer rolled: [5, 3, 3, 2, 5, 4]\n"
     ]
    }
   ],
   "source": [
    "#roll_dice () \n",
    "user_roll = list1=[ roll_dice(),roll_dice(),roll_dice(),roll_dice(),roll_dice(),roll_dice()]\n",
    "print (\"you rolled:\",list1)\n",
    "\n",
    "computer_roll =list2= [ roll_dice(),roll_dice(),roll_dice(),roll_dice(),roll_dice(),roll_dice()]\n",
    "print (\" computer rolled:\",list2)\n"
   ]
  },
  {
   "cell_type": "code",
   "execution_count": 334,
   "id": "1499082d-3004-4133-a579-1cb1033f2216",
   "metadata": {},
   "outputs": [
    {
     "name": "stdout",
     "output_type": "stream",
     "text": [
      "womp womp you lost computer wins 1:\n"
     ]
    }
   ],
   "source": [
    "    if user_roll[0] > computer_roll [0]:\n",
    "        print ( \"You win!! row 1 :\")\n",
    "    elif user_roll < computer_roll:\n",
    "        print(\"womp womp you lost computer wins 1:\")\n",
    "    else: \n",
    "        print ( \"its a tie -_-:\")\n",
    "            \n",
    "        print( \"try again:\")\n",
    "\n",
    "   \n",
    "\n",
    "    \n",
    "    "
   ]
  },
  {
   "cell_type": "code",
   "execution_count": 316,
   "id": "f6027e3d-a494-4495-94cd-fcdfb6502ba8",
   "metadata": {},
   "outputs": [
    {
     "name": "stdout",
     "output_type": "stream",
     "text": [
      "womp womp you lost computer wins 2:\n"
     ]
    }
   ],
   "source": [
    "    if user_roll[1] > computer_roll [1]:\n",
    "        print ( \"You win!! row 2 :\")\n",
    "    elif user_roll < computer_roll:\n",
    "        print(\"womp womp you lost computer wins 2:\")\n",
    "    else: \n",
    "        print ( \"its a tie -_- :\")\n",
    "            \n",
    "        print( \"try again:\")\n",
    "\n",
    " \n",
    "    \n",
    "    "
   ]
  },
  {
   "cell_type": "code",
   "execution_count": 318,
   "id": "ff35ae5a-3a5b-4dab-9407-b1c59b8b31af",
   "metadata": {},
   "outputs": [
    {
     "name": "stdout",
     "output_type": "stream",
     "text": [
      "You win!! row 3 :\n"
     ]
    }
   ],
   "source": [
    "    if user_roll[2] > computer_roll [2]:\n",
    "        print ( \"You win!! row 3 :\")\n",
    "    elif user_roll < computer_roll:\n",
    "        print(\"womp womp you lost computer wins 3:\")\n",
    "    else: \n",
    "        print ( \"its a tie -_- 3:\")\n",
    "            \n",
    "        print( \"try again:\")\n",
    "\n",
    " \n",
    "    \n",
    "    "
   ]
  },
  {
   "cell_type": "code",
   "execution_count": 320,
   "id": "cb0e10bf-27c2-4bb5-a1d2-294de8a1d800",
   "metadata": {},
   "outputs": [
    {
     "name": "stdout",
     "output_type": "stream",
     "text": [
      "womp womp you lost computer wins 4:\n"
     ]
    }
   ],
   "source": [
    "    if user_roll[3] > computer_roll [3]:\n",
    "        print ( \"You win!! row 4 :\")\n",
    "    elif user_roll < computer_roll:\n",
    "        print(\"womp womp you lost computer wins 4:\")\n",
    "    else: \n",
    "        print ( \"its a tie -_- 4:\")\n",
    "            \n",
    "        print( \"try again:\")\n",
    "\n",
    " \n",
    "    \n",
    "    "
   ]
  },
  {
   "cell_type": "code",
   "execution_count": 322,
   "id": "33900bc0-1f76-4f19-b46a-b02eb4525cb4",
   "metadata": {},
   "outputs": [
    {
     "name": "stdout",
     "output_type": "stream",
     "text": [
      "womp womp you lost computer wins 5:\n"
     ]
    }
   ],
   "source": [
    "    if user_roll[4] > computer_roll [4]:\n",
    "        print ( \"You win!! row 5 :\")\n",
    "    elif user_roll < computer_roll:\n",
    "        print(\"womp womp you lost computer wins 5:\")\n",
    "    else: \n",
    "        print ( \"its a tie -_- 5:\")\n",
    "            \n",
    "        print( \"try again:\")\n",
    "\n",
    " \n",
    "    \n",
    "    "
   ]
  },
  {
   "cell_type": "code",
   "execution_count": 324,
   "id": "66b1f5b0-a8a9-4bc8-9aff-b222b646a198",
   "metadata": {},
   "outputs": [
    {
     "name": "stdout",
     "output_type": "stream",
     "text": [
      "womp womp you lost computer wins 6:\n"
     ]
    }
   ],
   "source": [
    "    if user_roll[5] > computer_roll [5]:\n",
    "        print ( \"You win!! row 6 :\")\n",
    "    elif user_roll < computer_roll:\n",
    "        print(\"womp womp you lost computer wins 6:\")\n",
    "    else: \n",
    "        print ( \"its a tie -_- 6:\")\n",
    "            \n",
    "        print( \"try again:\")\n",
    "\n",
    " \n",
    "    \n",
    "    "
   ]
  },
  {
   "cell_type": "markdown",
   "id": "6471aba2-d7f2-40af-994f-d6bc3c6d74f0",
   "metadata": {},
   "source": [
    "templet typed out "
   ]
  },
  {
   "cell_type": "code",
   "execution_count": 151,
   "id": "c1a378f3-4f8f-44c6-9181-8c2030ecc6ac",
   "metadata": {},
   "outputs": [
    {
     "ename": "SyntaxError",
     "evalue": "expected ':' (1899065903.py, line 18)",
     "output_type": "error",
     "traceback": [
      "\u001b[1;36m  Cell \u001b[1;32mIn[151], line 18\u001b[1;36m\u001b[0m\n\u001b[1;33m    else if user_roll < computer_roll:\u001b[0m\n\u001b[1;37m         ^\u001b[0m\n\u001b[1;31mSyntaxError\u001b[0m\u001b[1;31m:\u001b[0m expected ':'\n"
     ]
    }
   ],
   "source": [
    "# put your code here \n",
    "import random \n",
    "def roll_dice():\n",
    "        return random.randint(1,6)\n",
    "def main():\n",
    "        print ( \"May the fates be in your favor\")\n",
    "        print (\"you vs the computer... Each of you will roll a dice the highest number wins\")\n",
    "        while True:\n",
    "            input (\"press enter to roll...\")\n",
    "\n",
    "            user_roll = rolldice()\n",
    "            computer_roll = roll_dice()\n",
    "        print (\"You rolled:\", user_roll)\n",
    "        print (\"Computer rolled: \", computer_roll)\n",
    "\n",
    "        if user_roll > computer_roll: \n",
    "            print(\" You win!!\")\n",
    "        else if user_roll < computer_roll:\n",
    "            print(\"womp womp you lost computer wins\", computer_roll)\n",
    "        else: \n",
    "            print ( \"its a tie -_-\")\n",
    "            \n",
    "            print( \"try again\")\n",
    "\n",
    "            break \n",
    "            \n",
    "    \n",
    "\n",
    "     \n",
    "        \n",
    "               \n",
    "        "
   ]
  },
  {
   "cell_type": "markdown",
   "id": "024a25d5-cb96-44be-9e7c-cb852c12f272",
   "metadata": {},
   "source": [
    "## Sample code\n",
    "Below you will find a Chat GPT generated Dice game.\n",
    "\n",
    "Lets talk about it. "
   ]
  },
  {
   "cell_type": "code",
   "execution_count": null,
   "id": "22a730ba-7ed0-4f65-8e31-fdaee97e43a3",
   "metadata": {},
   "outputs": [],
   "source": [
    "import random\n",
    "\n",
    "def roll_dice():\n",
    "    return random.randint(1, 6)\n",
    "\n",
    "def main():\n",
    "    print(\"Welcome to the Dice Rolling Game!\")\n",
    "    print(\"You and the computer will each roll a dice, and the one with the higher number wins.\")\n",
    "\n",
    "    while True:\n",
    "        input(\"Press Enter to roll the dice...\")\n",
    "        \n",
    "        user_roll = roll_dice()\n",
    "        computer_roll = roll_dice()\n",
    "\n",
    "        print(\"You rolled:\", user_roll)\n",
    "        print(\"Computer rolled:\", computer_roll)\n",
    "\n",
    "        if user_roll > computer_roll:\n",
    "            print(\"Congratulations! You win!\")\n",
    "        elif user_roll < computer_roll:\n",
    "            print(\"Sorry, you lost. Better luck next time!\")\n",
    "        else:\n",
    "            print(\"It's a tie!\")\n",
    "\n",
    "        play_again = input(\"Do you want to play again? (yes/no): \").lower()\n",
    "        if play_again != \"yes\":\n",
    "            print(\"Thanks for playing!\")\n",
    "            break\n",
    "\n",
    "if __name__ == \"__main__\":\n",
    "    main()"
   ]
  },
  {
   "cell_type": "code",
   "execution_count": null,
   "id": "31e6d976-765c-4a4a-848a-4fedaa2bf83a",
   "metadata": {},
   "outputs": [],
   "source": []
  }
 ],
 "metadata": {
  "kernelspec": {
   "display_name": "Python [conda env:base] *",
   "language": "python",
   "name": "conda-base-py"
  },
  "language_info": {
   "codemirror_mode": {
    "name": "ipython",
    "version": 3
   },
   "file_extension": ".py",
   "mimetype": "text/x-python",
   "name": "python",
   "nbconvert_exporter": "python",
   "pygments_lexer": "ipython3",
   "version": "3.12.7"
  }
 },
 "nbformat": 4,
 "nbformat_minor": 5
}
