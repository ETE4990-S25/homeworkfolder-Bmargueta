{
 "cells": [
  {
   "cell_type": "code",
   "execution_count": null,
   "metadata": {},
   "outputs": [],
   "source": [
    "#project 2 Brianna Argueta trying to save."
   ]
  },
  {
   "cell_type": "code",
   "execution_count": null,
   "metadata": {},
   "outputs": [
    {
     "name": "stdout",
     "output_type": "stream",
     "text": [
      "After 3 mins... we are at:91555456\n",
      "Fibonacci(6) calculated.\n",
      "8\n"
     ]
    }
   ],
   "source": [
    "# Please note that chat gpt was consalted I am very confused \n",
    "from multiprocessing import Process\n",
    "import threading\n",
    "import asyncio\n",
    "import time\n",
    "from math import isqrt\n",
    "import sys\n",
    "\n",
    "\n",
    "# the prime calc prof Powers codes\n",
    "def is_prime(n):\n",
    "    if n <= 1:\n",
    "        return False\n",
    "    for i in range(2, int(n ** 0.5) + 1):\n",
    "        # divides and makes prime number is code from canvas\n",
    "        if n % i == 0:\n",
    "            return False\n",
    "    return True\n",
    "\n",
    "# time runs for 3 mins\n",
    "def run_3_mins():\n",
    "    start_time=time.time()\n",
    "    duration = 10\n",
    "    counter = 0\n",
    "    while time.time()-start_time < duration:\n",
    "        counter += 1\n",
    "    print(f\"After 3 mins... we are at:{counter}\")\n",
    "    \n",
    "run_3_mins() # first round counted to 1197873663\n",
    "\n",
    "def fibonacci(n):\n",
    "    a,b = 0, 1 \n",
    "    for _ in range(n):\n",
    "     a,b = b, a + b \n",
    "    print(f\"Fibonacci({n}) calculated.\")\n",
    "    return a\n",
    "print(fibonacci(6))\n",
    "\n",
    "\n"
   ]
  },
  {
   "cell_type": "markdown",
   "metadata": {},
   "source": [
    "I kept geting this error \n",
    "The history saving thread hit an unexpected error (OperationalError('database or disk is full')).History will not be written to the database."
   ]
  },
  {
   "cell_type": "code",
   "execution_count": null,
   "metadata": {},
   "outputs": [],
   "source": [
    "# the prime calc\n",
    "def is_prime(n):\n",
    "    if n <= 1:\n",
    "        return False\n",
    "    for i in range(2, int(n ** 0.5) + 1):\n",
    "        # divides and makes prime number is code from canvas\n",
    "        if n % i == 0:\n",
    "            return False\n",
    "    return True"
   ]
  },
  {
   "cell_type": "code",
   "execution_count": null,
   "metadata": {},
   "outputs": [
    {
     "ename": "NameError",
     "evalue": "name 'n' is not defined",
     "output_type": "error",
     "traceback": [
      "\u001b[1;31m---------------------------------------------------------------------------\u001b[0m",
      "\u001b[1;31mNameError\u001b[0m                                 Traceback (most recent call last)",
      "Cell \u001b[1;32mIn[17], line 6\u001b[0m\n\u001b[0;32m      4\u001b[0m     for_in_range(n) \n\u001b[0;32m      5\u001b[0m     a,b \u001b[38;5;241m=\u001b[39m b, a \u001b[38;5;241m+\u001b[39m b \n\u001b[1;32m----> 6\u001b[0m \u001b[38;5;28mprint\u001b[39m(\u001b[38;5;124mf\u001b[39m\u001b[38;5;124m\"\u001b[39m\u001b[38;5;124mFibonacci(\u001b[39m\u001b[38;5;132;01m{\u001b[39;00mn\u001b[38;5;132;01m}\u001b[39;00m\u001b[38;5;124m) calculated.\u001b[39m\u001b[38;5;124m\"\u001b[39m)\n\u001b[0;32m      7\u001b[0m \u001b[38;5;28;01mreturn\u001b[39;00m a\n\u001b[0;32m      8\u001b[0m \u001b[38;5;28mprint\u001b[39m(fibonacci(\u001b[38;5;241m6\u001b[39m))\n",
      "\u001b[1;31mNameError\u001b[0m: name 'n' is not defined"
     ]
    }
   ],
   "source": [
    "# the fibonacci number\n",
    "def fibonacci(n):\n",
    "    a,b = 0, 1 \n",
    "    for_in_range(n) \n",
    "    a,b = b, a + b \n",
    "print(f\"Fibonacci({n}) calculated.\")\n",
    "return a\n",
    "print(fibonacci(6))"
   ]
  },
  {
   "cell_type": "code",
   "execution_count": null,
   "metadata": {},
   "outputs": [],
   "source": [
    "#highest prime\n"
   ]
  },
  {
   "cell_type": "code",
   "execution_count": null,
   "metadata": {},
   "outputs": [
    {
     "name": "stdout",
     "output_type": "stream",
     "text": [
      "After 3 mins... counted to:1197873663\n"
     ]
    }
   ],
   "source": [
    "import time\n",
    "# time runs for 3 mins\n",
    "def run_3_mins():\n",
    "    start_time=time.time()\n",
    "    duration = 180 \n",
    "    counter = 0\n",
    "    while time.time()-start_time < duration:\n",
    "        counter += 1\n",
    "    print(f\"After 3 mins... we are at:{counter}\")\n",
    "    \n",
    "run_3_mins()"
   ]
  },
  {
   "cell_type": "markdown",
   "metadata": {},
   "source": []
  },
  {
   "cell_type": "code",
   "execution_count": null,
   "metadata": {},
   "outputs": [],
   "source": [
    "import threading \n",
    "import time\n",
    "import random\n",
    "\n",
    "\n",
    "\n"
   ]
  },
  {
   "cell_type": "code",
   "execution_count": null,
   "metadata": {},
   "outputs": [],
   "source": [
    "#this is the chat code that i looked at \n",
    "import multiprocessing\n",
    "import time\n",
    "from math import isqrt\n",
    "\n",
    "def is_prime(n):\n",
    "    if n < 2:\n",
    "        return False\n",
    "    for i in range(2, isqrt(n) + 1):\n",
    "        if n % i == 0:\n",
    "            return False\n",
    "    return True\n",
    "\n",
    "def find_highest_prime(duration):\n",
    "    start_time = time.time()\n",
    "    num = 0\n",
    "    last_prime = 2\n",
    "    while time.time() - start_time < duration:\n",
    "        if is_prime(num):\n",
    "            last_prime = num\n",
    "        num += 1\n",
    "    print(f\"Highest Prime Found: {last_prime}\")\n",
    "    return last_prime\n",
    "\n",
    "def fibonacci(n):\n",
    "    a, b = 0, 1\n",
    "    for _ in range(n):\n",
    "        a, b = b, a + b\n",
    "    print(f\"Fibonacci({n}) calculated.\")\n",
    "    return a\n",
    "\n",
    "def factorial(n):\n",
    "    result = 1\n",
    "    for i in range(2, n + 1):\n",
    "        result *= i\n",
    "    print(f\"Factorial({n}) calculated.\")\n",
    "    return result\n",
    "\n",
    "if __name__ == \"__main__\":\n",
    "    duration_seconds = 180  # 3 minutes\n",
    "\n",
    "    # Step 1: Find prime\n",
    "    with multiprocessing.Pool(1) as pool:\n",
    "        result = pool.apply(find_highest_prime, (duration_seconds,))\n",
    "        highest_prime = result\n",
    "\n",
    "    # Step 2 & 3: Run Fibonacci and Factorial in parallel\n",
    "    with multiprocessing.Pool(2) as pool:\n",
    "        fib_result = pool.apply_async(fibonacci, (highest_prime,))\n",
    "        fac_result = pool.apply_async(factorial, (highest_prime,))\n",
    "\n",
    "        fib = fib_result.get()\n",
    "        fac = fac_result.get()\n",
    "\n",
    "    print(f\"\\nFinal Results:\\n  Highest Prime: {highest_prime}\\n  Fibonacci({highest_prime}): [calculated]\\n  Factorial({highest_prime}): [calculated]\")\n"
   ]
  }
 ],
 "metadata": {
  "kernelspec": {
   "display_name": "base",
   "language": "python",
   "name": "python3"
  },
  "language_info": {
   "codemirror_mode": {
    "name": "ipython",
    "version": 3
   },
   "file_extension": ".py",
   "mimetype": "text/x-python",
   "name": "python",
   "nbconvert_exporter": "python",
   "pygments_lexer": "ipython3",
   "version": "3.12.7"
  }
 },
 "nbformat": 4,
 "nbformat_minor": 2
}
