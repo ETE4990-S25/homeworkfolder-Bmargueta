{
 "cells": [
  {
   "cell_type": "code",
   "execution_count": null,
   "metadata": {},
   "outputs": [
    {
     "name": "stdout",
     "output_type": "stream",
     "text": [
      "c:\\Users\\Brianna\\Python Class\\homeworkfolder-Bmargueta\n"
     ]
    },
    {
     "ename": "FileNotFoundError",
     "evalue": "[WinError 3] The system cannot find the path specified: '  /Homework/to/ Homework3/to/data_classes/'",
     "output_type": "error",
     "traceback": [
      "\u001b[1;31m---------------------------------------------------------------------------\u001b[0m",
      "\u001b[1;31mFileNotFoundError\u001b[0m                         Traceback (most recent call last)",
      "Cell \u001b[1;32mIn[17], line 7\u001b[0m\n\u001b[0;32m      5\u001b[0m \u001b[38;5;28;01mimport\u001b[39;00m \u001b[38;5;21;01mos\u001b[39;00m\n\u001b[0;32m      6\u001b[0m \u001b[38;5;28mprint\u001b[39m(os\u001b[38;5;241m.\u001b[39mgetcwd())\n\u001b[1;32m----> 7\u001b[0m os\u001b[38;5;241m.\u001b[39mchdir (  \u001b[38;5;124m'\u001b[39m\u001b[38;5;124m  /Homework/to/ Homework3/to/data_classes/\u001b[39m\u001b[38;5;124m'\u001b[39m)\n\u001b[0;32m      8\u001b[0m sys\u001b[38;5;241m.\u001b[39mpath\u001b[38;5;241m.\u001b[39mappend ()\n\u001b[0;32m      9\u001b[0m \u001b[38;5;28;01mimport\u001b[39;00m \u001b[38;5;21;01mdata_classes\u001b[39;00m\n",
      "\u001b[1;31mFileNotFoundError\u001b[0m: [WinError 3] The system cannot find the path specified: '  /Homework/to/ Homework3/to/data_classes/'"
     ]
    }
   ],
   "source": [
    "# Jupter note book hw 3 \n",
    "\n",
    "# \n",
    "# \n",
    "import sys\n",
    "import os\n",
    "print(os.getcwd())\n",
    "os.chdir (  '  /Homework/to/ Homework3/to/data_classes/'\n",
    "sys.path.append ()\n",
    "import data_classes\n",
    "   #Person \n",
    "   #students\n",
    "from data_classes import student as dc\n",
    "from data_classes import Saver\n",
    "bill= dc (  \"bill\" , 12,\"bill@cool.com\",1234)\n",
    "saver(bill)\n",
    "saver= Saver()\n",
    "saver.save([bill])\n",
    "\n",
    "saver.display_json()\n",
    "\n"
   ]
  }
 ],
 "metadata": {
  "kernelspec": {
   "display_name": "base",
   "language": "python",
   "name": "python3"
  },
  "language_info": {
   "codemirror_mode": {
    "name": "ipython",
    "version": 3
   },
   "file_extension": ".py",
   "mimetype": "text/x-python",
   "name": "python",
   "nbconvert_exporter": "python",
   "pygments_lexer": "ipython3",
   "version": "3.12.7"
  }
 },
 "nbformat": 4,
 "nbformat_minor": 2
}
