{
 "cells": [
  {
   "cell_type": "code",
   "execution_count": null,
   "metadata": {},
   "outputs": [],
   "source": [
    "# hw 3 p2\n",
    "import json\n",
    "\n",
    "from data_classes import student as ST\n",
    "from data_classes import saver \n",
    "\n",
    "Brianna ==ST ( \"Brianna\",22, \"bma email\",123456)\n",
    "saver.save(Brianna.to_dict(), 'studentinfo.json')\n",
    "\n",
    "with open ('student.json') as f:\n",
    "    data_classes = json. load(f)\n",
    "\n",
    "    print (json.dumps(data_classes, indent=2))\n",
    "\n",
    "with open ('studentinfo.json') as f:\n",
    "    data_classes =json.load(f)\n",
    "    print(json.dump(data_classes, indent=2))\n",
    "\n",
    "## i talked to peers for help here\n",
    "\n",
    "\n",
    "\n",
    "    "
   ]
  }
 ],
 "metadata": {
  "kernelspec": {
   "display_name": "base",
   "language": "python",
   "name": "python3"
  },
  "language_info": {
   "codemirror_mode": {
    "name": "ipython",
    "version": 3
   },
   "file_extension": ".py",
   "mimetype": "text/x-python",
   "name": "python",
   "nbconvert_exporter": "python",
   "pygments_lexer": "ipython3",
   "version": "3.12.7"
  }
 },
 "nbformat": 4,
 "nbformat_minor": 2
}
