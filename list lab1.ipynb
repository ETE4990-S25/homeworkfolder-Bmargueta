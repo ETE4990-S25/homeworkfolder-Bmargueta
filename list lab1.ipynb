{
 "cells": [
  {
   "cell_type": "markdown",
   "id": "74a2d1b4-be7c-4bff-8c28-c304e26718f4",
   "metadata": {},
   "source": [
    "List number guessing game!! secert number\n"
   ]
  },
  {
   "cell_type": "code",
   "execution_count": null,
   "id": "2655ff9c-490f-4382-98dc-760c1365d018",
   "metadata": {},
   "outputs": [],
   "source": [
    "secertnumber = 1\n",
    "guess= int( inout(\"make a guess\"))\n",
    "if guess == secert number;\n",
    "    print(\"you got it\" )\n",
    "else;\n",
    "                print(\" lol wrong\")\n"
   ]
  }
 ],
 "metadata": {
  "kernelspec": {
   "display_name": "Python [conda env:base] *",
   "language": "python",
   "name": "conda-base-py"
  },
  "language_info": {
   "codemirror_mode": {
    "name": "ipython",
    "version": 3
   },
   "file_extension": ".py",
   "mimetype": "text/x-python",
   "name": "python",
   "nbconvert_exporter": "python",
   "pygments_lexer": "ipython3",
   "version": "3.12.7"
  }
 },
 "nbformat": 4,
 "nbformat_minor": 5
}
